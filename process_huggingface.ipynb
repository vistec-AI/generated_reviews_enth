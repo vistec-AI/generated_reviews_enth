{
 "cells": [
  {
   "cell_type": "markdown",
   "metadata": {},
   "source": [
    "# Process `generated_reviews_enth` for [HuggingFace Datasets](https://github.com/huggingface/datasets)"
   ]
  },
  {
   "cell_type": "code",
   "execution_count": 42,
   "metadata": {},
   "outputs": [],
   "source": [
    "import pandas as pd\n",
    "import glob\n",
    "from sklearn.model_selection import train_test_split"
   ]
  },
  {
   "cell_type": "code",
   "execution_count": 43,
   "metadata": {},
   "outputs": [
    {
     "data": {
      "text/plain": [
       "['raw_data/generated_reviews-review_level_sa2_04182020_all_n_sent_205501.csv',\n",
       " 'raw_data/generated_reviews-review_level_sa1_04042020+review_star.csv']"
      ]
     },
     "execution_count": 43,
     "metadata": {},
     "output_type": "execute_result"
    }
   ],
   "source": [
    "fnames = glob.glob('raw_data/*')\n",
    "fnames"
   ]
  },
  {
   "cell_type": "markdown",
   "metadata": {},
   "source": [
    "## `machine_df` - All Machine-translated Reviews"
   ]
  },
  {
   "cell_type": "markdown",
   "metadata": {},
   "source": [
    "Large portion of the dataset is machine-translated by Google Translate API then checked by annotators from [Hope Data Annotations](https://www.hopedata.org/). We apply the following preprocessing:\n",
    "- Drop duplciates on `en_segment`,`th_segment`,`review_star`,`correct`; duplicates might exist because the translation checking (human-like or not) is done by annotators.\n",
    "- Remove reviews that are not between 1-5 stars.\n",
    "- Remove reviews whose `correct` are not 0 or 1.\n",
    "- Deduplicate on `en_segment` which contains the source sentences."
   ]
  },
  {
   "cell_type": "code",
   "execution_count": 100,
   "metadata": {},
   "outputs": [],
   "source": [
    "def clean_df(df):\n",
    "    df = df[['en_segment','th_segment','review_star','correct']]\n",
    "    df = df.drop_duplicates()\n",
    "    df = df[(df.review_star>=1)&(df.review_star<=5)]\n",
    "    df = df[df.correct.isin([0,1])]\n",
    "    #remove duplicate english\n",
    "    agg = df.groupby('en_segment').th_segment.count().reset_index()\n",
    "    agg = agg[agg.th_segment==1]\n",
    "    df = df[df.en_segment.isin(agg.en_segment.tolist())]\n",
    "    return df.reset_index(drop=True)"
   ]
  },
  {
   "cell_type": "code",
   "execution_count": 101,
   "metadata": {},
   "outputs": [],
   "source": [
    "machine_df = pd.concat([pd.read_csv(fnames[i]) for i in range(2)])\n",
    "machine_df = clean_df(machine_df)"
   ]
  },
  {
   "cell_type": "code",
   "execution_count": 102,
   "metadata": {},
   "outputs": [
    {
     "data": {
      "text/plain": [
       "1    174530\n",
       "Name: en_segment, dtype: int64"
      ]
     },
     "execution_count": 102,
     "metadata": {},
     "output_type": "execute_result"
    }
   ],
   "source": [
    "#no duplicate en_segment, which is the source\n",
    "machine_df.en_segment.value_counts().value_counts()"
   ]
  },
  {
   "cell_type": "code",
   "execution_count": 103,
   "metadata": {},
   "outputs": [
    {
     "data": {
      "text/plain": [
       "1    174003\n",
       "2       248\n",
       "3         7\n",
       "5         2\n",
       "Name: th_segment, dtype: int64"
      ]
     },
     "execution_count": 103,
     "metadata": {},
     "output_type": "execute_result"
    }
   ],
   "source": [
    "#some duplicate th_segment as a result of translation\n",
    "machine_df.th_segment.value_counts().value_counts()"
   ]
  },
  {
   "cell_type": "code",
   "execution_count": 104,
   "metadata": {},
   "outputs": [],
   "source": [
    "machine_df['en_segment'] = machine_df['en_segment'].map(lambda x: x.replace(' <SEP> ',' '))\n",
    "machine_df['th_segment'] = machine_df['th_segment'].map(lambda x: x.replace(' <SEP> ',' '))"
   ]
  },
  {
   "cell_type": "markdown",
   "metadata": {},
   "source": [
    "## Splits"
   ]
  },
  {
   "cell_type": "code",
   "execution_count": 105,
   "metadata": {},
   "outputs": [
    {
     "data": {
      "text/plain": [
       "((141369, 4), (15708, 4), (17453, 4))"
      ]
     },
     "execution_count": 105,
     "metadata": {},
     "output_type": "execute_result"
    }
   ],
   "source": [
    "train_valid, test = train_test_split(machine_df,test_size=0.1,random_state=1412)\n",
    "train, valid = train_test_split(train_valid,test_size=0.1,random_state=1412)\n",
    "train.shape,valid.shape,test.shape"
   ]
  },
  {
   "cell_type": "code",
   "execution_count": 106,
   "metadata": {},
   "outputs": [
    {
     "data": {
      "text/plain": [
       "0    99296\n",
       "1    42073\n",
       "Name: correct, dtype: int64"
      ]
     },
     "execution_count": 106,
     "metadata": {},
     "output_type": "execute_result"
    }
   ],
   "source": [
    "train.correct.value_counts() #/ train.shape[0]"
   ]
  },
  {
   "cell_type": "code",
   "execution_count": 107,
   "metadata": {},
   "outputs": [
    {
     "data": {
      "text/plain": [
       "0    10936\n",
       "1     4772\n",
       "Name: correct, dtype: int64"
      ]
     },
     "execution_count": 107,
     "metadata": {},
     "output_type": "execute_result"
    }
   ],
   "source": [
    "valid.correct.value_counts() #/ valid.shape[0]"
   ]
  },
  {
   "cell_type": "code",
   "execution_count": 108,
   "metadata": {},
   "outputs": [
    {
     "data": {
      "text/plain": [
       "0    12208\n",
       "1     5245\n",
       "Name: correct, dtype: int64"
      ]
     },
     "execution_count": 108,
     "metadata": {},
     "output_type": "execute_result"
    }
   ],
   "source": [
    "test.correct.value_counts() #/ test.shape[0]"
   ]
  },
  {
   "cell_type": "code",
   "execution_count": 109,
   "metadata": {},
   "outputs": [
    {
     "data": {
      "text/plain": [
       "1    50418\n",
       "4    22876\n",
       "3    22825\n",
       "2    22671\n",
       "5    22579\n",
       "Name: review_star, dtype: int64"
      ]
     },
     "execution_count": 109,
     "metadata": {},
     "output_type": "execute_result"
    }
   ],
   "source": [
    "train.review_star.value_counts() #/ train.shape[0]"
   ]
  },
  {
   "cell_type": "code",
   "execution_count": 110,
   "metadata": {},
   "outputs": [
    {
     "data": {
      "text/plain": [
       "1    5628\n",
       "4    2596\n",
       "2    2521\n",
       "5    2517\n",
       "3    2446\n",
       "Name: review_star, dtype: int64"
      ]
     },
     "execution_count": 110,
     "metadata": {},
     "output_type": "execute_result"
    }
   ],
   "source": [
    "valid.review_star.value_counts() #/ valid.shape[0]"
   ]
  },
  {
   "cell_type": "code",
   "execution_count": 111,
   "metadata": {},
   "outputs": [
    {
     "data": {
      "text/plain": [
       "1    6225\n",
       "5    2852\n",
       "4    2831\n",
       "2    2778\n",
       "3    2767\n",
       "Name: review_star, dtype: int64"
      ]
     },
     "execution_count": 111,
     "metadata": {},
     "output_type": "execute_result"
    }
   ],
   "source": [
    "test.review_star.value_counts() #/ test.shape[0]"
   ]
  },
  {
   "cell_type": "markdown",
   "metadata": {},
   "source": [
    "## Save"
   ]
  },
  {
   "cell_type": "code",
   "execution_count": 114,
   "metadata": {},
   "outputs": [],
   "source": [
    "#save\n",
    "train.to_json('data/train.jsonl',orient='records',lines=True)\n",
    "valid.to_json('data/valid.jsonl',orient='records',lines=True)\n",
    "test.to_json('data/test.jsonl',orient='records',lines=True)"
   ]
  },
  {
   "cell_type": "code",
   "execution_count": 115,
   "metadata": {},
   "outputs": [],
   "source": [
    "df[\"length_th\"] = df[\"th_segment\"].map(lambda x: len(word_tokenize(x)))\n",
    "df[\"length_en\"] = df[\"en_segment\"].map(lambda x: len(word_tokenize(x)))\n",
    "machine_df.to_csv('raw_data/machine_df.csv',index=False)"
   ]
  },
  {
   "cell_type": "code",
   "execution_count": null,
   "metadata": {},
   "outputs": [],
   "source": []
  }
 ],
 "metadata": {
  "hide_input": false,
  "kernelspec": {
   "display_name": "Python 3",
   "language": "python",
   "name": "python3"
  },
  "language_info": {
   "codemirror_mode": {
    "name": "ipython",
    "version": 3
   },
   "file_extension": ".py",
   "mimetype": "text/x-python",
   "name": "python",
   "nbconvert_exporter": "python",
   "pygments_lexer": "ipython3",
   "version": "3.8.4"
  }
 },
 "nbformat": 4,
 "nbformat_minor": 4
}
